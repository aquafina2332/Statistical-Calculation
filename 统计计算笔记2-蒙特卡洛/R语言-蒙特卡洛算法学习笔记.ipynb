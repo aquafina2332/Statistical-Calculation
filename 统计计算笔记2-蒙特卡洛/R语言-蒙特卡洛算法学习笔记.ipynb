{
 "cells": [
  {
   "cell_type": "markdown",
   "id": "9306d190",
   "metadata": {},
   "source": [
    "# 蒙特卡洛积分与方差降低技术"
   ]
  },
  {
   "cell_type": "markdown",
   "id": "d66050f5",
   "metadata": {},
   "source": [
    "## 1.用蒙特卡洛方法求积分"
   ]
  },
  {
   "cell_type": "markdown",
   "id": "ba2fa3e3",
   "metadata": {},
   "source": [
    "### 1.0基本思想\n",
    "蒙特卡罗的方法求定积分的思路是，随机在[a,b]上取一个点x1，我们用f(x1)*(b-a)来估算曲线下方面积。然后进行对此随机采样，则其平均值就近似等于真实的积分面积(采样次数越多越接近)。整个过程如下图所示。"
   ]
  },
  {
   "cell_type": "markdown",
   "id": "d531cd62",
   "metadata": {},
   "source": [
    "<div align=\"center\">\n",
    "\t<img src=\"1.jpg\" width=\"60%\">\n",
    "</div>"
   ]
  },
  {
   "cell_type": "markdown",
   "id": "192e5b3b",
   "metadata": {},
   "source": [
    "对于更一般的情况4次变成N次，乘以(b-a)可以看做除以 1 / (b-a)。 而前面讲过了随随机在曲线上采样因此随机到每个点的概率都是1 / (b-a)。 扩展到更一般的随机情况则有 1 / pdf(x)。 pdf(x)函数为x采用的概率密度函数。因此可以推导出更具有一般性的公式也就是蒙特卡洛积分法：\n",
    "\n",
    "$$ F_n (x)= \\frac{1}{n} \\sum_{k=1}^{n} \\frac{f(x_k)}{pdf(x_k)}$$"
   ]
  },
  {
   "cell_type": "markdown",
   "id": "c0495294",
   "metadata": {},
   "source": [
    "### 1.1简单情况：适用于积分区间[0,1] "
   ]
  },
  {
   "cell_type": "code",
   "execution_count": 3,
   "id": "0d0bcc5e",
   "metadata": {
    "vscode": {
     "languageId": "r"
    }
   },
   "outputs": [
    {
     "name": "stdout",
     "output_type": "stream",
     "text": [
      "[1] 0.6296385\n",
      "[1] 0.6321206\n"
     ]
    }
   ],
   "source": [
    "# 简单的蒙特卡洛求积分:exp(-x)  \n",
    "m = 10000\n",
    "x = runif(m)\n",
    "theta.hat = mean(exp(-x))\n",
    "print(theta.hat)\n",
    "print(1-exp(-1)) # 实际"
   ]
  },
  {
   "cell_type": "markdown",
   "id": "9d0cf64b",
   "metadata": {},
   "source": [
    "### 1.2对于一般区间[a,b]上的定积分"
   ]
  },
  {
   "cell_type": "markdown",
   "id": "528a4f18",
   "metadata": {},
   "source": [
    "做线性变换：$y = (x-a)/(b-a)$，此时，$$x = (b-a)y+a, J^{'}=(b-a) \\int_{0}^{1} g[(b-a)y+a] dy$$\n",
    "\n",
    "进一步，如果在区间[a,b]上有$c \\leq g(x) \\leq d$，令$f(y) = \\frac{1}{d-c} g(x)-c=\\frac{1}{d-c}g[a+(b-a)y]-c$，则$0 \\leq f(y) \\leq 1$。\n",
    "\n",
    "此时$$J^{'} = \\int_{a}^{b}g(x) dx = S_0 J+c(b-a)$$ 其中，$S_0 = (b-a)(d-c) ,J = \\int_{0}^{1}f(y)dy$。\n",
    "\n",
    "下面简单介绍一个案例：\n",
    "\n",
    "<div align=\"center\">\n",
    "\t<img src=\"2.jpg\" width=\"70%\">\n",
    "</div>"
   ]
  },
  {
   "cell_type": "code",
   "execution_count": 2,
   "id": "f9f0d356",
   "metadata": {
    "vscode": {
     "languageId": "r"
    }
   },
   "outputs": [
    {
     "name": "stdout",
     "output_type": "stream",
     "text": [
      "[1] 0.02303637\n"
     ]
    },
    {
     "data": {
      "text/plain": [
       "0.02274985 with absolute error < 2.5e-16"
      ]
     },
     "metadata": {},
     "output_type": "display_data"
    }
   ],
   "source": [
    "a = 2\n",
    "b = 5\n",
    "n = 10^4\n",
    "g = function(x){exp(-x^2/2)/sqrt(2*pi)}\n",
    "f = function(y){(g(a+(b-a)*y)-c)/(d-c)}\n",
    "c = g(5)\n",
    "d = g(2)\n",
    "s_0 = (b-a)*(d-c)\n",
    "x = runif(n)\n",
    "y = runif(n)\n",
    "J = sum(y<= f(x))/n\n",
    "J_0 = s_0*J+c*(b-a)\n",
    "print(J_0) # 蒙特卡洛得到的积分\n",
    "integrate(g,2,5) # 精确值"
   ]
  },
  {
   "cell_type": "markdown",
   "id": "995e350f",
   "metadata": {},
   "source": [
    "### 1.3对于无界积分的求解"
   ]
  },
  {
   "cell_type": "markdown",
   "id": "25e8cf88",
   "metadata": {},
   "source": [
    "Stack上搜到一个比较满意的解释：使用一种变换将无界变为[0,1]有界：\n",
    "\n",
    "<div align=\"center\">\n",
    "\t<img src=\"3.jpg\" width=\"50%\">\n",
    "</div>\n",
    "\n",
    "下面是一个列题：求解标准正态分布的定积分\n",
    "\n",
    "$$\\phi = \\int_{-\\infty}^{x} \\frac{1}{\\sqrt{2 \\pi} }e^{-t^2/2}dt$$\n",
    "\n",
    "这个题我们首先将积分区域拆解:[0,x]和[0,$-\\infty$].后者计算得到1/2，前者可以表示为$\\frac{\\theta}{\\sqrt{2 \\pi}}$ .对于$\\theta$，我们设定变换：$y = t/x$，得到下式：\n",
    "\n",
    "$$\\theta = \\int_{0}^{1} x e^{-(xy)^{2}/2} dy$$\n",
    "\n",
    "这个积分相对来说好求的，计算完以后再代回：$\\frac{1}{2}+\\frac{\\theta}{\\sqrt{2 \\pi}}$"
   ]
  },
  {
   "cell_type": "code",
   "execution_count": 1,
   "id": "e53c62f9",
   "metadata": {
    "vscode": {
     "languageId": "r"
    }
   },
   "outputs": [
    {
     "name": "stdout",
     "output_type": "stream",
     "text": [
      "    [,1]  [,2]  [,3]  [,4]  [,5]  [,6]  [,7]  [,8]  [,9] [,10]\n",
      "x   0.10 0.367 0.633 0.900 1.167 1.433 1.700 1.967 2.233 2.500\n",
      "cdf 0.54 0.643 0.737 0.816 0.878 0.923 0.954 0.974 0.985 0.991\n",
      "Phi 0.54 0.643 0.737 0.816 0.878 0.924 0.955 0.975 0.987 0.994\n"
     ]
    }
   ],
   "source": [
    "x = seq(.1,2.5,length = 10)\n",
    "m = 10000\n",
    "u = runif(m) # 积分变量的范围在0-1\n",
    "cdf = numeric(length(x))\n",
    "for (i in 1:length(x)){\n",
    "    g = x[i]*exp(-(u*x[i])^2/2)\n",
    "    cdf[i] = mean(g)/sqrt(2*pi) + 0.5\n",
    "}\n",
    "Phi = pnorm(x)\n",
    "print(round(rbind(x,cdf,Phi),3))"
   ]
  },
  {
   "cell_type": "markdown",
   "id": "5771911e",
   "metadata": {},
   "source": [
    "### 1.4对于来自已知分布的积分进行求解"
   ]
  },
  {
   "cell_type": "markdown",
   "id": "5269156b",
   "metadata": {},
   "source": [
    "接上一个例题，我们求来自正态分布的积分。基本思想与经验函数的定义类似，我们首先生成该已知分布的一系列随机数Z，根据$E[I(Z \\leq x)]\\underline{{=}}\\ P(Z\\leq x)=\\phi (x)$公式，使频率逼近概率。"
   ]
  },
  {
   "cell_type": "code",
   "execution_count": 4,
   "id": "1ddb5311",
   "metadata": {
    "vscode": {
     "languageId": "r"
    }
   },
   "outputs": [
    {
     "name": "stdout",
     "output_type": "stream",
     "text": [
      "     [,1]  [,2]  [,3]  [,4]  [,5]  [,6]  [,7]  [,8]  [,9] [,10]\n",
      "x   0.100 0.367 0.633 0.900 1.167 1.433 1.700 1.967 2.233 2.500\n",
      "p   0.541 0.639 0.729 0.811 0.875 0.924 0.953 0.974 0.986 0.994\n",
      "Phi 0.540 0.643 0.737 0.816 0.878 0.924 0.955 0.975 0.987 0.994\n"
     ]
    }
   ],
   "source": [
    "x = seq(.1,2.5,length = 10)\n",
    "m = 10000\n",
    "z = rnorm(m)\n",
    "dim(x) = length(x)\n",
    "p = apply(x,MARGIN = 1,FUN = function(x,z){mean(z<x)},z = z)\n",
    "Phi = pnorm(x)\n",
    "print(round(rbind(x,p,Phi),3)) # x是x的数值，p是蒙特卡洛积分得到的，Phi是实际的分位数"
   ]
  },
  {
   "cell_type": "markdown",
   "id": "396b8031",
   "metadata": {},
   "source": [
    "### 1.5计算多重积分"
   ]
  },
  {
   "cell_type": "markdown",
   "id": "b65fd04d",
   "metadata": {},
   "source": [
    "这个很简单，依然是使用平均值法。我们只用看一个例题：\n",
    "\n",
    "$$\\theta=\\int_{0}^{1}\\!\\int_{0}^{1}\\!e^{(x+y)^{2}}\\mathrm{d}x\\mathrm{d}y$$\n",
    "\n",
    "当然，如果计算的积分区间不是[0,1]，我们使用上述提到的方法进行转换。"
   ]
  },
  {
   "cell_type": "code",
   "execution_count": 7,
   "id": "030da913",
   "metadata": {
    "vscode": {
     "languageId": "r"
    }
   },
   "outputs": [
    {
     "data": {
      "text/html": [
       "10.2122416087246"
      ],
      "text/latex": [
       "10.2122416087246"
      ],
      "text/markdown": [
       "10.2122416087246"
      ],
      "text/plain": [
       "[1] 10.21224"
      ]
     },
     "metadata": {},
     "output_type": "display_data"
    }
   ],
   "source": [
    "g = function(x,y) exp(x+y)^2\n",
    "n = 1000000\n",
    "x = runif(n)\n",
    "y = runif(n)\n",
    "z = g(x,y)\n",
    "mean(z)"
   ]
  },
  {
   "cell_type": "markdown",
   "id": "c79aa790",
   "metadata": {},
   "source": [
    "### 1.6使用R自带的包进行检验核算"
   ]
  },
  {
   "cell_type": "code",
   "execution_count": 9,
   "id": "a50bea89",
   "metadata": {
    "vscode": {
     "languageId": "r"
    }
   },
   "outputs": [
    {
     "name": "stderr",
     "output_type": "stream",
     "text": [
      "\n",
      "Attaching package: 'rmutil'\n",
      "\n",
      "\n",
      "The following object is masked from 'package:stats':\n",
      "\n",
      "    nobs\n",
      "\n",
      "\n",
      "The following objects are masked from 'package:base':\n",
      "\n",
      "    as.data.frame, units\n",
      "\n",
      "\n"
     ]
    },
    {
     "data": {
      "text/html": [
       "10.2050094588206"
      ],
      "text/latex": [
       "10.2050094588206"
      ],
      "text/markdown": [
       "10.2050094588206"
      ],
      "text/plain": [
       "[1] 10.20501"
      ]
     },
     "metadata": {},
     "output_type": "display_data"
    }
   ],
   "source": [
    "library(\"rmutil\")\n",
    "g<-function(x,y) exp(x+y)^2\n",
    "int2(g,a=c(0,0),b=c(1,1)) # 结果十分相近"
   ]
  },
  {
   "cell_type": "markdown",
   "id": "bcf06ad8",
   "metadata": {},
   "source": [
    "## 2.方差降低技术"
   ]
  },
  {
   "cell_type": "markdown",
   "id": "83c42c9a",
   "metadata": {},
   "source": [
    "### 2.0基本思想"
   ]
  },
  {
   "cell_type": "markdown",
   "id": "eec9ad38",
   "metadata": {},
   "source": [
    "为了使得蒙特卡洛方法中的变异性更少从而可以在仿真的时候使用更少的样本量，接下来介绍几种方差降低技术。需要回顾效率的定义，这在非参数统计学中讲过，不再赘述。\n"
   ]
  },
  {
   "cell_type": "markdown",
   "id": "6665be87",
   "metadata": {},
   "source": [
    "### 2.1对偶变量法"
   ]
  },
  {
   "cell_type": "markdown",
   "id": "c97010e3",
   "metadata": {},
   "source": [
    "原理推导：\n",
    "根据下式我们知道，当U1和U2存在负相关性时，方差会比两者独立时小：\n",
    "$$V a r\\left({\\frac{U_{1}+U_{2}}{2}}\\right)={\\frac{1}{4}}(V a r(U_{1})+V a r(U_{2})+2C o v(U_{1},U_{2}))$$\n",
    "\n",
    "我们还有定理（PPT有证明）：\n",
    "\n",
    "如果Xi是独立的样本，f/g是单调增函数，有\n",
    "\n",
    "$$E[f(X)g(X)]\\ge\\ E[f(X)]E[g(X)].$$ \n",
    "\n",
    "还有推论（PPT也有证明）：\n",
    "\n",
    "如果g是单增函数，则\n",
    "$Y=g(F_{X}^{-1}(U_{1}),\\cdot\\cdot\\cdot\\cdot\\cdot F_{X}^{-1}(U_{n}))$和$Y^{\\prime}= g(F_{X}^{-1}(1\\ -U_{1}),\\cdot\\cdot\\cdot\\cdot\\cdot{}f_{X}^{-1}(1-U_{n}))$呈负相关。\n",
    "\n",
    "**需要保证g是单调函数。**"
   ]
  },
  {
   "cell_type": "markdown",
   "id": "22fb1a1c",
   "metadata": {},
   "source": [
    "<div align=\"center\">\n",
    "\t<img src=\"4.jpg\" width=\"50%\">\n",
    "</div>"
   ]
  },
  {
   "cell_type": "markdown",
   "id": "a7d7d588",
   "metadata": {},
   "source": [
    "**一元积分**例题：\n",
    "使用对偶变量法计算$\\textstyle{\\int_{0}^{1}\\mathbf{e}^{-x}\\mathrm{sin}\\mathbf{x}\\mathrm{d}\\mathbf{x}}$，并与平均值法进行比较\n"
   ]
  },
  {
   "cell_type": "code",
   "execution_count": 15,
   "id": "983e7d27",
   "metadata": {
    "vscode": {
     "languageId": "r"
    }
   },
   "outputs": [
    {
     "name": "stdout",
     "output_type": "stream",
     "text": [
      "[1] 0.2458384\n",
      "[1] 0.2458172\n",
      "[1] 61.93089\n"
     ]
    }
   ],
   "source": [
    "n = 10000 # 需要n个重复\n",
    "k = 1000 # 每次重复时随机的次数\n",
    "set.seed(123) # 随机种子\n",
    "MC.Phi  =  function(n,k,anti = TRUE) { # anti用来判断是否是对偶变量法，否则是普通的均值法\n",
    "  f = function(x){exp(-x)*sin(x)} # 要求的函数\n",
    "  theat_hat = numeric(length(k)) \n",
    "  for (i in 1:k) {\n",
    "    u  =  runif(n/2)\n",
    "    if (!anti) v  =  runif(n/2) else\n",
    "      v  =  1 - u\n",
    "    u  =  c(u, v)\n",
    "    theat_hat[i] = mean(f(u))\n",
    "  }\n",
    "  theat_hat\n",
    "}\n",
    "MC1 = mean(MC.Phi(n,k))  #对偶变量积分\n",
    "MC2 = mean(MC.Phi(n,k,anti=FALSE)) #平均值法积分\n",
    "print(MC1)\n",
    "print(MC2)\n",
    "print((1-var(MC.Phi(n,k))/var(MC.Phi(n,k,anti=FALSE)))*100) #方差减少百分比\n",
    "# 计算结果显示，使用对偶变量法计算的积分与均值法基本无差，但估计量的方差减少了61.93%"
   ]
  },
  {
   "cell_type": "markdown",
   "id": "ca136920",
   "metadata": {},
   "source": [
    "**二元积分**例题：使用对偶变量法计算 $\\iint_{\\mathbf{D}}\\,\\mathbf{e}^{(\\mathbf{x+y})^{2}}\\mathrm{d}\\mathbf{x}\\mathrm{d}\\mathbf{y}$，其中D = [ 0 , 1 ] × [ 0 , 1 ]，并与均值法进行比较"
   ]
  },
  {
   "cell_type": "code",
   "execution_count": 17,
   "id": "176564d5",
   "metadata": {
    "vscode": {
     "languageId": "r"
    }
   },
   "outputs": [
    {
     "name": "stdout",
     "output_type": "stream",
     "text": [
      "[1] 4.901333\n",
      "[1] 4.897756\n",
      "[1] 56.30473\n"
     ]
    }
   ],
   "source": [
    "n = 10000\n",
    "k = 1000\n",
    "set.seed(123)\n",
    "f = function(x,y){exp((x+y)^2)}\n",
    "\n",
    "#均值法\n",
    "simple_carlo = function(n,k){\n",
    "  theat_hat = numeric()\n",
    "  for(i in 1:k){  \n",
    "    x = runif(n)\n",
    "    y = runif(n)\n",
    "    theat_hat[i] = mean(f(x,y))}\n",
    "  return(theat_hat)\n",
    "}\n",
    "theat_simple = simple_carlo(n,k)\n",
    "MC2 = mean(theat_simple)\n",
    "\n",
    "#对偶变量法\n",
    "MC.phi = function(n,k){\n",
    "  theat_hat=numeric()\n",
    "  for(i in 1:k){\n",
    "    x = runif(n/4) # 变成n/4\n",
    "    y = runif(n/4)\n",
    "    T1 = f(x,y)\n",
    "    T2 = f(x,1-y)\n",
    "    T3 = f(1-x,y)\n",
    "    T4 = f(1-x,1-y)\n",
    "    theat_hat[i] = mean((T1+T2+T3+T4)/4)}\n",
    "  return(theat_hat)\n",
    "}\n",
    "theat_MC = MC.phi(n,k)\n",
    "MC1 = mean(theat_MC)\n",
    "\n",
    "print(MC1)\n",
    "print(MC2)\n",
    "print((1-var(theat_MC)/var(theat_simple))*100)\n",
    "# 从对二重积分的计算结果来看，对偶变量法依旧比平均值法减少方差约56.30%。"
   ]
  },
  {
   "cell_type": "markdown",
   "id": "d9f74977",
   "metadata": {},
   "source": [
    "### 2.2控制变量法"
   ]
  },
  {
   "cell_type": "markdown",
   "id": "6e09062b",
   "metadata": {},
   "source": [
    "<div align=\"center\">\n",
    "\t<img src=\"5.jpg\" width=\"50%\">\n",
    "</div>\n",
    "\n",
    "Y的选择一般不是固定的，通常与X有较强的相关性即可。\n",
    "\n",
    "对偶变量法是控制变量法的特例。"
   ]
  },
  {
   "cell_type": "markdown",
   "id": "85562018",
   "metadata": {},
   "source": [
    "两者相关性越强，方差减少得越多。方差的减少百分比为：\n",
    "$$100\\frac{[C o v(g(X),f(X))]^{2}}{V a r(g(X))\\ V a r(f(X))}=100[C o r(g(X),f(X))]^{2}.$$"
   ]
  },
  {
   "cell_type": "markdown",
   "id": "a5a638cb",
   "metadata": {},
   "source": [
    "**一元积分**例题：计算积分$\\int_{0}^{1}\\,{\\frac{\\mathbf{e}^{-\\mathbf{x}}}{1+\\mathbf{x}^{2}}}\\,\\mathrm{d}\\mathbf{x}$并与均值法比较\n"
   ]
  },
  {
   "cell_type": "code",
   "execution_count": 2,
   "id": "92f7c3ec",
   "metadata": {
    "vscode": {
     "languageId": "r"
    }
   },
   "outputs": [
    {
     "name": "stdout",
     "output_type": "stream",
     "text": [
      "[1] 0.5247772\n",
      "[1] 0.5248371\n",
      "[1] 94.95615\n"
     ]
    }
   ],
   "source": [
    "n = 10000\n",
    "k = 1000\n",
    "set.seed(123)\n",
    "g = function(x){exp(-x)/(1+x^2)}\n",
    "\n",
    "#均值法\n",
    "simple_carlo = function(n,k){\n",
    "  theat_hat = numeric()\n",
    "  for(i in 1:k){  \n",
    "    x = runif(n)\n",
    "    theat_hat[i] = mean(g(x))}\n",
    "  return(theat_hat)\n",
    "}\n",
    "theat_simple = simple_carlo(n,k)\n",
    "MC2 = mean(theat_simple)\n",
    "\n",
    "#控制变量法\n",
    "control_carlo = function(n,k){\n",
    "  f  =  function(x){exp(-.5)/(1+x^2)} # 选择的控制变量\n",
    "  theat_hat = numeric()\n",
    "  for(i in 1:k){\n",
    "    x = runif(n)\n",
    "    B  =  f(x)\n",
    "    A  =  g(x)\n",
    "    a  =  -cov(A,B) / var(B) # c的最小值\n",
    "    theat_hat[i]  =  mean(g(x) + a * (f(x) - exp(-.5)*pi/4)) # 计算控制变量的均值 :它好像算错了，这个控制变量的期望也不好算啊\n",
    "  }\n",
    "  theat_hat\n",
    "}\n",
    "theat_control = control_carlo(n,k)\n",
    "MC1 = mean(theat_control)\n",
    "\n",
    "print(MC1)\n",
    "print(MC2)\n",
    "print((1-var(theat_control)/var(theat_simple))*100)\n",
    "# 控制变量法的减少方差十分明显，比均值法减少了近95%的方差。"
   ]
  },
  {
   "cell_type": "markdown",
   "id": "b91b6245",
   "metadata": {},
   "source": [
    "**二元积分**例题：使用控制变量法计算 $\\iint_{\\mathbf{D}}\\,\\mathbf{e}^{(\\mathbf{x+y})^{2}}\\mathrm{d}\\mathbf{x}\\mathrm{d}\\mathbf{y}$，其中D = [ 0 , 1 ] × [ 0 , 1 ]，并与均值法进行比较"
   ]
  },
  {
   "cell_type": "code",
   "execution_count": 3,
   "id": "2493b811",
   "metadata": {
    "vscode": {
     "languageId": "r"
    }
   },
   "outputs": [
    {
     "name": "stdout",
     "output_type": "stream",
     "text": [
      "[1] 4.899935\n",
      "[1] 4.897756\n",
      "[1] 77.86118\n"
     ]
    }
   ],
   "source": [
    "n = 10000\n",
    "k = 1000\n",
    "set.seed(123)\n",
    "g = function(x,y){exp((x+y)^2)}\n",
    "\n",
    "#均值法\n",
    "simple_carlo = function(n,k){\n",
    "  theat_hat = numeric()\n",
    "  for(i in 1:k){  \n",
    "    x = runif(n)\n",
    "    y = runif(n)\n",
    "    theat_hat[i] = mean(g(x,y))}\n",
    "  return(theat_hat)\n",
    "}\n",
    "theat_simple = simple_carlo(n,k)\n",
    "MC2 = mean(theat_simple)\n",
    "\n",
    "# 控制变量法\n",
    "control_carlo = function(n,k){\n",
    "  theat_hat = numeric()\n",
    "  for(i in 1:k){\n",
    "    u = runif(n)\n",
    "    v = runif(n)\n",
    "    f = function(u,v){exp(u+v)} # 控制变量\n",
    "    r = -cov(f(u,v),g(u,v))/var(f(u,v)) #估计c\n",
    "    theat_hat[i] = mean(g(u,v)+r*(f(u,v)-(exp(1)-1)^2))\n",
    "  }\n",
    "  return(theat_hat)\n",
    "}\n",
    "theat_control = control_carlo(n,k)\n",
    "MC1 = mean(theat_control)\n",
    "\n",
    "print(MC1)\n",
    "print(MC2)\n",
    "print((1-var(theat_control)/var(theat_simple))*100)\n",
    "# 积分值约为4.9，使用控制变量法比均值法的方差减少约77.86%"
   ]
  },
  {
   "cell_type": "markdown",
   "id": "c689f4b1",
   "metadata": {},
   "source": [
    "### 2.3重要性抽样法"
   ]
  },
  {
   "cell_type": "markdown",
   "id": "1c32f677",
   "metadata": {},
   "source": [
    "<div align=\"center\">\n",
    "\t<img src=\"6.jpg\" width=\"50%\">\n",
    "</div>\n",
    "\n",
    "均值法方法不适用于无限区间分布，并且当g不是均分分布的函数时抽样效率较低，针对这个问题提出的重要抽样方法。\n",
    "\n",
    "$g(x)/f(x)$的方差应当较小。"
   ]
  },
  {
   "cell_type": "markdown",
   "id": "5fdfb806",
   "metadata": {},
   "source": [
    "**一元积分**例题：使用不同的重要性函数计算$\\!\\int_{0}^{1}{\\frac{\\mathbf{e}^{-\\mathbf{x}}}{1+\\mathbf{x}^{2}}}\\,\\mathrm{d}\\mathbf{x}$\n",
    "\n",
    "考虑如下两个重要性函数：$$\\mathrm{f}_{1}(\\mathbf{x})=\\mathrm{e}^{-1}(1-\\mathrm{e}^{-1})^{-1}$$\n",
    "$$\\mathrm{f}_{2}(\\mathbf{x})={\\frac{4}{\\pi(1+\\mathbf{x}^{2})}}$$\n",
    "\n",
    "以下代码中，在生成随机数x时，用到了随机数的逆变换法。"
   ]
  },
  {
   "cell_type": "code",
   "execution_count": 7,
   "id": "7d8670dc",
   "metadata": {
    "vscode": {
     "languageId": "r"
    }
   },
   "outputs": [
    {
     "name": "stdout",
     "output_type": "stream",
     "text": [
      "[1] 0.5248104\n",
      "[1] 0.05659413\n",
      "[1] 0.5248371\n",
      "[1] 82.37536\n",
      "[1] 99.78108\n"
     ]
    }
   ],
   "source": [
    "n = 10000\n",
    "k = 1000\n",
    "set.seed(123)\n",
    "g = function(x){exp(-x)/(1+x^2)}\n",
    "\n",
    "# 均值法\n",
    "simple_carlo = function(n,k){\n",
    "  theta_hat = numeric()\n",
    "  for(i in 1:k){  \n",
    "    x = runif(n)\n",
    "    theta_hat[i] = mean(g(x))}\n",
    "  return(theta_hat)\n",
    "}\n",
    "theta_simple = simple_carlo(n,k)\n",
    "MC2 = mean(theta_simple)\n",
    "\n",
    "# 重要性函数f1\n",
    "f1 = function(n,k){\n",
    "  theta_hat = numeric()\n",
    "  for(i in 1:k){\n",
    "    u = runif(n)\n",
    "    x = log(1-u*(1-exp(-1)))  # 逆变换法 从f1函数中抽取随机数\n",
    "    fg = g(x)/(exp(-x)/(1-exp(-1)))  # 除以重要函数\n",
    "    theta_hat[i] = mean(fg)\n",
    "  }\n",
    "  theta_hat\n",
    "}\n",
    "theta_f1 = f1(n,k)\n",
    "MC11 = mean(theta_f1)\n",
    "\n",
    "# 重要性函数f2\n",
    "f2 = function(n,k){\n",
    "  theta_hat = numeric()\n",
    "  for(i in 1:k){\n",
    "    u = runif(n)\n",
    "    x = atan(pi*u/4)  # 逆变换法:不知道换的对不对，怎么感觉怪怪的\n",
    "    fg = g(x)/(4/(1+x^2)*pi)\n",
    "    theta_hat[i] = mean(fg)\n",
    "  }\n",
    "  theta_hat\n",
    "}\n",
    "theta_f2 = f2(n,k)\n",
    "MC12 = mean(theta_f2)\n",
    "\n",
    "print(MC11)\n",
    "print(MC12)\n",
    "print(MC2)\n",
    "print((1-var(theta_f1)/var(theta_simple))*100)\n",
    "print((1-var(theta_f2)/var(theta_simple))*100)\n",
    "# 有的方法虽然方差减少的很多，但是计算结果不太一样"
   ]
  },
  {
   "cell_type": "markdown",
   "id": "9fbac201",
   "metadata": {},
   "source": [
    "**二元积分**例题：使用重要抽样法计算 $\\iint_{\\mathbf{D}}\\,\\mathbf{e}^{(\\mathbf{x+y})^{2}}\\mathrm{d}\\mathbf{x}\\mathrm{d}\\mathbf{y}$，其中D = [ 0 , 1 ] × [ 0 , 1 ]，并与均值法进行比较"
   ]
  },
  {
   "cell_type": "code",
   "execution_count": 8,
   "id": "177738bd",
   "metadata": {
    "vscode": {
     "languageId": "r"
    }
   },
   "outputs": [
    {
     "name": "stdout",
     "output_type": "stream",
     "text": [
      "[1] 4.899765\n",
      "[1] 4.897756\n",
      "[1] 72.32975\n"
     ]
    }
   ],
   "source": [
    "#重要抽样\n",
    "n = 10000\n",
    "k = 1000\n",
    "set.seed(123)\n",
    "g = function(x,y){exp((x+y)^2)}\n",
    "\n",
    "#均值法\n",
    "simple_carlo = function(n,k){\n",
    "  theat_hat = numeric()\n",
    "  for(i in 1:k){  \n",
    "    x = runif(n)\n",
    "    y = runif(n)\n",
    "    theat_hat[i] = mean(g(x,y))}\n",
    "  return(theat_hat)\n",
    "}\n",
    "theat_simple = simple_carlo(n,k)\n",
    "MC2 = mean(theat_simple)\n",
    "\n",
    "# 重要抽样法\n",
    "r_num<-function(n){ # 从函数中生成随机数\n",
    "  u<-runif(n)\n",
    "  x<-log((exp(1)-1)*u+1)\n",
    "  return(x)\n",
    "} \n",
    "\n",
    "importance_sample = function(n,k){\n",
    "  f = function(x,y){exp(x+y)/(exp(1)-1)^2} # 选择的重要函数\n",
    "  theat_hat = numeric()\n",
    "  for(i in 1:k){\n",
    "    x = r_num(n)\n",
    "    y = r_num(n)\n",
    "    fg = g(x,y)/f(x,y)\n",
    "    theat_hat[i] = mean(fg)\n",
    "  }\n",
    "  theat_hat\n",
    "}\n",
    "theat_imp = importance_sample(n,k)\n",
    "MC1 = mean(theat_imp)\n",
    "\n",
    "print(MC1)\n",
    "print(MC2)\n",
    "print((1-var(theat_imp)/var(theat_simple))*100)\n",
    "# 从结果来看，使用重要抽样比均值法的方差减少约72%"
   ]
  },
  {
   "cell_type": "markdown",
   "id": "704e746c",
   "metadata": {},
   "source": [
    "### 2.4分层抽样法"
   ]
  },
  {
   "cell_type": "markdown",
   "id": "96100742",
   "metadata": {},
   "source": [
    "<div align=\"center\">\n",
    "\t<img src=\"7.jpg\" width=\"60%\">\n",
    "</div>\n",
    "\n",
    "过程：将区间划分为四个子区间，并使用总数的1/4计算每个子区间上积分的蒙特卡洛估计值"
   ]
  },
  {
   "cell_type": "markdown",
   "id": "5ab9726b",
   "metadata": {},
   "source": [
    "**一元积分**例题：$\\int_{0}^{1}{\\frac{e^{-x}}{1+x^{2}}}\\;d x$"
   ]
  },
  {
   "cell_type": "code",
   "execution_count": 20,
   "id": "5ed1b615",
   "metadata": {
    "vscode": {
     "languageId": "r"
    }
   },
   "outputs": [
    {
     "data": {
      "text/html": [
       "<style>\n",
       ".list-inline {list-style: none; margin:0; padding: 0}\n",
       ".list-inline>li {display: inline-block}\n",
       ".list-inline>li:not(:last-child)::after {content: \"\\00b7\"; padding: 0 .5ex}\n",
       "</style>\n",
       "<ol class=list-inline><li>0.524934462107381</li><li>0.524780625578844</li></ol>\n"
      ],
      "text/latex": [
       "\\begin{enumerate*}\n",
       "\\item 0.524934462107381\n",
       "\\item 0.524780625578844\n",
       "\\end{enumerate*}\n"
      ],
      "text/markdown": [
       "1. 0.524934462107381\n",
       "2. 0.524780625578844\n",
       "\n",
       "\n"
      ],
      "text/plain": [
       "[1] 0.5249345 0.5247806"
      ]
     },
     "metadata": {},
     "output_type": "display_data"
    },
    {
     "data": {
      "text/html": [
       "<style>\n",
       ".list-inline {list-style: none; margin:0; padding: 0}\n",
       ".list-inline>li {display: inline-block}\n",
       ".list-inline>li:not(:last-child)::after {content: \"\\00b7\"; padding: 0 .5ex}\n",
       "</style>\n",
       "<ol class=list-inline><li>5.13808075191352e-06</li><li>5.14685929124132e-08</li></ol>\n"
      ],
      "text/latex": [
       "\\begin{enumerate*}\n",
       "\\item 5.13808075191352e-06\n",
       "\\item 5.14685929124132e-08\n",
       "\\end{enumerate*}\n"
      ],
      "text/markdown": [
       "1. 5.13808075191352e-06\n",
       "2. 5.14685929124132e-08\n",
       "\n",
       "\n"
      ],
      "text/plain": [
       "[1] 5.138081e-06 5.146859e-08"
      ]
     },
     "metadata": {},
     "output_type": "display_data"
    },
    {
     "name": "stdout",
     "output_type": "stream",
     "text": [
      "[1] 98.99829\n"
     ]
    }
   ],
   "source": [
    "M = 10000 # 重复次数\n",
    "k = 10 # 划分的区间\n",
    "r = M/k # 每个区间区间重复的次数\n",
    "N = 50 # 重复抽样时的次数\n",
    "T2 = numeric() # 初始化\n",
    "estimates = matrix(0,N,2) # 便于对比\n",
    "\n",
    "\n",
    "g = function(x){\n",
    "    exp(-x-log(1+x^2))*(x>0)*(x<1) # 保证不能超过[0,1]\n",
    "}\n",
    "\n",
    "for (i in 1:N){\n",
    "    estimates[i,1] = mean(g(runif(M))) # 均值法\n",
    "    for (j in 1:k){T2[j] = mean(g(runif(M/k,(j-1)/k,j/k)))}\n",
    "    estimates[i,2] = mean(T2)\n",
    "}\n",
    "\n",
    "apply(estimates,2,mean)\n",
    "apply(estimates,2,var)\n",
    "print((1-apply(estimates,2,var)[2]/apply(estimates,2,var)[1])*100) # 方差降低了98%"
   ]
  },
  {
   "cell_type": "markdown",
   "id": "b202d1cd",
   "metadata": {},
   "source": [
    "**二元积分**例题：试利用分层抽样法估计 $\\theta = E(W_1 + W_2)^{\\frac{5}{4}}$ ，其中 W1 W2 是独立同分布的weibull（威布尔）分布，其密度函数为：$f(x) = \\frac{3}{2}x^{\\frac{1}{2}}e^{-x^{\\frac{3}{2}}}$"
   ]
  },
  {
   "cell_type": "code",
   "execution_count": 10,
   "id": "f32fa055",
   "metadata": {
    "vscode": {
     "languageId": "r"
    }
   },
   "outputs": [
    {
     "name": "stdout",
     "output_type": "stream",
     "text": [
      "[1] 2.06729\n"
     ]
    },
    {
     "data": {
      "text/html": [
       "1.61830386533809"
      ],
      "text/latex": [
       "1.61830386533809"
      ],
      "text/markdown": [
       "1.61830386533809"
      ],
      "text/plain": [
       "[1] 1.618304"
      ]
     },
     "metadata": {},
     "output_type": "display_data"
    }
   ],
   "source": [
    "n = 10000\n",
    "\n",
    "getU = function(){ # 实现分层抽样\n",
    "  u = runif(n)\n",
    "  if (n<0.5) {\n",
    "    result = runif(1,min=0,max=0.5)\n",
    "  } else {\n",
    "    result = runif(1,min=0.5,max=1)\n",
    "  }\n",
    "  result\n",
    "}\n",
    "\n",
    "transF = function(u) (-log(1-u))^(2/3) # 逆变换法\n",
    " \n",
    "getVal = function() {\n",
    "  u = getU()\n",
    "  result = floor(transF(u)) # 分段区间，向下取整\n",
    "  result\n",
    "}\n",
    "\n",
    "f = function(w1,w2) (w1+w2)^(5/4) \n",
    "\n",
    "t10 = function(n) {\n",
    "  # 初始化u1 u2\n",
    "  u1 = numeric()\n",
    "  u2 = numeric()\n",
    "  for (i in 1:n) {\n",
    "    u1[i] = getVal()\n",
    "    u2[i] = getVal()\n",
    "  }\n",
    "  f(u1,u2)\n",
    "}\n",
    " \n",
    "MC1 = mean(t10(n))\n",
    "print(MC1)\n",
    "var(t10(n))"
   ]
  },
  {
   "cell_type": "markdown",
   "id": "11198249",
   "metadata": {},
   "source": [
    "**二元积分**例题：通过分层抽样法得到 $\\theta = \\int^{1}_{0} \\int^{1}_{0} e^{​{x+y}^2} dx dy$ 的一个模拟估计量"
   ]
  },
  {
   "cell_type": "code",
   "execution_count": 12,
   "id": "7cf96f4f",
   "metadata": {
    "vscode": {
     "languageId": "r"
    }
   },
   "outputs": [
    {
     "name": "stdout",
     "output_type": "stream",
     "text": [
      "[1] 4.890186\n"
     ]
    },
    {
     "data": {
      "text/html": [
       "36.448402656122"
      ],
      "text/latex": [
       "36.448402656122"
      ],
      "text/markdown": [
       "36.448402656122"
      ],
      "text/plain": [
       "[1] 36.4484"
      ]
     },
     "metadata": {},
     "output_type": "display_data"
    }
   ],
   "source": [
    "n = 10000\n",
    "\n",
    "getVal = function() { # 分层抽样法得到随机变量\n",
    "  u = runif(1)\n",
    "  if (u < 0.5) {\n",
    "    result = runif(1, min=0, max=0.5)\n",
    "  } else {\n",
    "    result = runif(1, min=0.5, max=1)\n",
    "  }\n",
    "  result\n",
    "}\n",
    " \n",
    "f = function(x,y) exp((x+y)^2)\n",
    " \n",
    "t1 = function(n) {\n",
    "  u1 = numeric()\n",
    "  u2 = numeric()\n",
    "  for (i in 1:n) {\n",
    "    u1[i] = getVal()\n",
    "    u2[i] = getVal()\n",
    "  }\n",
    "  f(u1,u2)\n",
    "}\n",
    " \n",
    "MC1 = mean(t1(n))\n",
    "print(MC1)\n",
    "var(t1(n))"
   ]
  }
 ],
 "metadata": {
  "kernelspec": {
   "display_name": "R",
   "language": "R",
   "name": "ir"
  },
  "language_info": {
   "codemirror_mode": "r",
   "file_extension": ".r",
   "mimetype": "text/x-r-source",
   "name": "R",
   "pygments_lexer": "r",
   "version": "4.1.3"
  }
 },
 "nbformat": 4,
 "nbformat_minor": 5
}
