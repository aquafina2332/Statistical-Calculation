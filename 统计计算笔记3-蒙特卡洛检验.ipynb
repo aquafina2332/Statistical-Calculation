{
 "cells": [
  {
   "attachments": {},
   "cell_type": "markdown",
   "id": "065c6b56",
   "metadata": {},
   "source": [
    "# 蒙特卡洛检验"
   ]
  },
  {
   "attachments": {},
   "cell_type": "markdown",
   "id": "1fbac7c1",
   "metadata": {},
   "source": [
    "随机模拟可以辅助说明新模型或新方法的有效性， 尤其是在很难获得关于有效性的理论结果的情况下让我们也能说明自己的新方法的优点。\n",
    "\n",
    "比如，为了掌握统计量的抽样分布经常需要依靠随机模拟。 在独立正态样本情况下， 我们已经有样本均值和样本方差的分布， 但是对其它分布的样本， 我们一般只能得到统计量的大样本性质， 在中小样本情况下很难得到的抽样分布理论结果， 随机模拟可以解决这样的问题。 在抽取的很多批样本后， 得到很多个统计量样本值， 从这些样本值可以估计的抽样分布， 并研究样本量多大时的抽样分布与大样本极限分布相符， 计算估计的均方误差，等等。\n"
   ]
  },
  {
   "attachments": {},
   "cell_type": "markdown",
   "id": "efd7b6bb",
   "metadata": {},
   "source": [
    "### 1.计算标准差"
   ]
  },
  {
   "attachments": {},
   "cell_type": "markdown",
   "id": "983e4cfd",
   "metadata": {},
   "source": [
    "$\\theta=\\,E[X_{1}-X_{2}]$"
   ]
  },
  {
   "cell_type": "code",
   "execution_count": 3,
   "id": "21894efc",
   "metadata": {
    "vscode": {
     "languageId": "r"
    }
   },
   "outputs": [
    {
     "data": {
      "text/html": [
       "1.1108560153333"
      ],
      "text/latex": [
       "1.1108560153333"
      ],
      "text/markdown": [
       "1.1108560153333"
      ],
      "text/plain": [
       "[1] 1.110856"
      ]
     },
     "metadata": {},
     "output_type": "display_data"
    }
   ],
   "source": [
    "m = 1000\n",
    "g = numeric(m) # 产生1000个零\n",
    "for (i in 1:m){\n",
    "    x = rnorm(2)\n",
    "    g[i] = abs(x[1]-x[2])\n",
    "}\n",
    "est =  mean(g)\n",
    "est"
   ]
  },
  {
   "cell_type": "code",
   "execution_count": 8,
   "id": "208645e8",
   "metadata": {
    "vscode": {
     "languageId": "r"
    }
   },
   "outputs": [
    {
     "data": {
      "text/html": [
       "0.0264076979622344"
      ],
      "text/latex": [
       "0.0264076979622344"
      ],
      "text/markdown": [
       "0.0264076979622344"
      ],
      "text/plain": [
       "[1] 0.0264077"
      ]
     },
     "metadata": {},
     "output_type": "display_data"
    }
   ],
   "source": [
    "sqrt(var(g)/m)"
   ]
  },
  {
   "cell_type": "code",
   "execution_count": 10,
   "id": "5c4fdb43",
   "metadata": {
    "vscode": {
     "languageId": "r"
    }
   },
   "outputs": [
    {
     "data": {
      "text/html": [
       "0.0263944908106396"
      ],
      "text/latex": [
       "0.0263944908106396"
      ],
      "text/markdown": [
       "0.0263944908106396"
      ],
      "text/plain": [
       "[1] 0.02639449"
      ]
     },
     "metadata": {},
     "output_type": "display_data"
    }
   ],
   "source": [
    "sqrt(sum((g-mean(g))^2))/m"
   ]
  },
  {
   "attachments": {},
   "cell_type": "markdown",
   "id": "8f7ec0c5",
   "metadata": {},
   "source": [
    "m很大时，以上两种方法的计算结果一样。"
   ]
  },
  {
   "attachments": {},
   "cell_type": "markdown",
   "id": "d9b80e72",
   "metadata": {},
   "source": [
    "### 2.计算MSE"
   ]
  },
  {
   "attachments": {},
   "cell_type": "markdown",
   "id": "ff324195",
   "metadata": {},
   "source": [
    "${{\\theta=E[{\\overline{{X}}}]=E[{\\overline{{X}}}_{[-1]}]=0}}$ \n",
    "\n",
    "这个参数是一个修正均值，我们想计算这个参数的mse"
   ]
  },
  {
   "cell_type": "code",
   "execution_count": 11,
   "id": "5f8de2ed",
   "metadata": {
    "vscode": {
     "languageId": "r"
    }
   },
   "outputs": [
    {
     "data": {
      "text/html": [
       "0.0540153203058125"
      ],
      "text/latex": [
       "0.0540153203058125"
      ],
      "text/markdown": [
       "0.0540153203058125"
      ],
      "text/plain": [
       "[1] 0.05401532"
      ]
     },
     "metadata": {},
     "output_type": "display_data"
    }
   ],
   "source": [
    "n = 20\n",
    "m = 1000\n",
    "tmean = numeric(m)\n",
    "for ( i in 1:m){\n",
    "    x = sort(rnorm(n))\n",
    "    tmean[i] = sum(x[2:(n-1)])/(n-2)\n",
    "}\n",
    "mse = mean(tmean^2)\n",
    "mse"
   ]
  },
  {
   "attachments": {},
   "cell_type": "markdown",
   "id": "ea0e45f4",
   "metadata": {},
   "source": [
    "中位数实际上是一个修正的平均值；它删除了除一到两个观察结果之外的所有观察结果。"
   ]
  },
  {
   "cell_type": "code",
   "execution_count": 14,
   "id": "a8f19311",
   "metadata": {
    "vscode": {
     "languageId": "r"
    }
   },
   "outputs": [
    {
     "data": {
      "text/html": [
       "0.0744276022999115"
      ],
      "text/latex": [
       "0.0744276022999115"
      ],
      "text/markdown": [
       "0.0744276022999115"
      ],
      "text/plain": [
       "[1] 0.0744276"
      ]
     },
     "metadata": {},
     "output_type": "display_data"
    }
   ],
   "source": [
    "# 按照中位数替代修正均值\n",
    "n = 20\n",
    "m = 1000\n",
    "tmean = numeric(m)\n",
    "for (i in 1:m){\n",
    "    x = sort(rnorm(n))\n",
    "    tmean[i] = median(x) # 这一步\n",
    "}\n",
    "mse = mean(tmean^2)\n",
    "mse"
   ]
  },
  {
   "attachments": {},
   "cell_type": "markdown",
   "id": "d282bad4",
   "metadata": {},
   "source": [
    "### 3.计算置信水平1-$a$"
   ]
  },
  {
   "attachments": {},
   "cell_type": "markdown",
   "id": "69eeb6df",
   "metadata": {
    "vscode": {
     "languageId": "r"
    }
   },
   "source": [
    "计算20个样本的${\\mathrm{Norm}}\\mathrm{a}{\\mathrm{l}}(0,\\sigma^{2}=4)$分布的95%置信下限"
   ]
  },
  {
   "cell_type": "code",
   "execution_count": 2,
   "id": "cb7b077e",
   "metadata": {
    "vscode": {
     "languageId": "r"
    }
   },
   "outputs": [
    {
     "data": {
      "text/html": [
       "5.64896383802927"
      ],
      "text/latex": [
       "5.64896383802927"
      ],
      "text/markdown": [
       "5.64896383802927"
      ],
      "text/plain": [
       "[1] 5.648964"
      ]
     },
     "metadata": {},
     "output_type": "display_data"
    }
   ],
   "source": [
    "# 简单思想\n",
    "n = 20\n",
    "alpha = 0.05\n",
    "x = rnorm(n,mean = 0,sd = 2)\n",
    "UCL = (n-1)*var(x)/qchisq(alpha,df = n-1)\n",
    "UCL"
   ]
  },
  {
   "cell_type": "code",
   "execution_count": 4,
   "id": "24ce42c7",
   "metadata": {
    "vscode": {
     "languageId": "r"
    }
   },
   "outputs": [
    {
     "data": {
      "image/png": "[encoded data removed]",
      "text/plain": [
       "plot without title"
      ]
     },
     "metadata": {
      "image/png": {
       "height": 420,
       "width": 420
      }
     },
     "output_type": "display_data"
    }
   ],
   "source": [
    "# 重复100000次\n",
    "n = 20\n",
    "alpha = 0.05\n",
    "m = 100000\n",
    "ucls = numeric(m)\n",
    "for ( i in 1:m){\n",
    "    x = rnorm(n,mean = 0,sd = 2)\n",
    "    ucls[i] = (n-1)*var(x)/qchisq(alpha,df = n-1)\n",
    "}\n",
    "ind = (ucls>4)\n",
    "cov.rate = cumsum(ind)/1:m\n",
    "plot(2:m,cov.rate[-1],type = 'l')\n",
    "abline(h = 0.95)"
   ]
  },
  {
   "cell_type": "code",
   "execution_count": 7,
   "id": "0b019558",
   "metadata": {
    "vscode": {
     "languageId": "r"
    }
   },
   "outputs": [
    {
     "data": {
      "text/html": [
       "0.949"
      ],
      "text/latex": [
       "0.949"
      ],
      "text/markdown": [
       "0.949"
      ],
      "text/plain": [
       "[1] 0.949"
      ]
     },
     "metadata": {},
     "output_type": "display_data"
    }
   ],
   "source": [
    "# 使用replicate函数\n",
    "n = 20\n",
    "alpha = 0.05\n",
    "UCL = replicate(1000,expr = {\n",
    "    x = rnorm(n,mean = 0,sd = 2)\n",
    "    (n-1)*var(x)/qchisq(alpha,df = n-1)\n",
    "})\n",
    "\n",
    "mean(UCL>4)\n",
    "#所以经验置信区间估计为94.9%"
   ]
  },
  {
   "attachments": {},
   "cell_type": "markdown",
   "id": "23bff84d",
   "metadata": {},
   "source": [
    "### 4.假设检验"
   ]
  },
  {
   "attachments": {},
   "cell_type": "markdown",
   "id": "2d8f17e3",
   "metadata": {},
   "source": [
    "$H_{0}:\\mu=500\\,\\,H_{1}:\\mu\\gt 500$\n",
    "\n",
    "求临界值和估计值的标准误"
   ]
  },
  {
   "cell_type": "code",
   "execution_count": 1,
   "id": "c22b1848",
   "metadata": {
    "vscode": {
     "languageId": "r"
    }
   },
   "outputs": [
    {
     "name": "stdout",
     "output_type": "stream",
     "text": [
      "[1] 0.052400000 0.002228323\n"
     ]
    }
   ],
   "source": [
    "n = 20\n",
    "alpha = 0.05\n",
    "mu0 = 500\n",
    "sigma = 100\n",
    "m = 10000 \n",
    "p = numeric(m)\n",
    "for (j in 1:m){\n",
    "    x = rnorm(n,mu0,sigma)\n",
    "    ttest = t.test(x,alternative = 'greater',mu = mu0) # greater，右边检验，备择假设中u更大\n",
    "    p[j] = ttest$p.value\n",
    "}\n",
    "p.hat = mean(p<alpha)\n",
    "se.hat = sqrt(p.hat*(1-p.hat)/m)\n",
    "print(c(p.hat,se.hat))\n"
   ]
  },
  {
   "cell_type": "code",
   "execution_count": 3,
   "id": "deee870b",
   "metadata": {
    "vscode": {
     "languageId": "r"
    }
   },
   "outputs": [
    {
     "data": {
      "text/html": [
       "0.222843456086536"
      ],
      "text/latex": [
       "0.222843456086536"
      ],
      "text/markdown": [
       "0.222843456086536"
      ],
      "text/plain": [
       "[1] 0.2228435"
      ]
     },
     "metadata": {},
     "output_type": "display_data"
    }
   ],
   "source": [
    "sd(p<alpha)"
   ]
  },
  {
   "attachments": {},
   "cell_type": "markdown",
   "id": "390d3628",
   "metadata": {},
   "source": [
    "计算偏度统计量"
   ]
  },
  {
   "cell_type": "code",
   "execution_count": 14,
   "id": "89c7fb02",
   "metadata": {
    "vscode": {
     "languageId": "r"
    }
   },
   "outputs": [
    {
     "data": {
      "text/html": [
       "<style>\n",
       ".list-inline {list-style: none; margin:0; padding: 0}\n",
       ".list-inline>li {display: inline-block}\n",
       ".list-inline>li:not(:last-child)::after {content: \"\\00b7\"; padding: 0 .5ex}\n",
       "</style>\n",
       "<ol class=list-inline><li>0.013</li><li>0.0298</li><li>0.0345</li><li>0.04</li><li>0.0459</li><li>0.0482</li></ol>\n"
      ],
      "text/latex": [
       "\\begin{enumerate*}\n",
       "\\item 0.013\n",
       "\\item 0.0298\n",
       "\\item 0.0345\n",
       "\\item 0.04\n",
       "\\item 0.0459\n",
       "\\item 0.0482\n",
       "\\end{enumerate*}\n"
      ],
      "text/markdown": [
       "1. 0.013\n",
       "2. 0.0298\n",
       "3. 0.0345\n",
       "4. 0.04\n",
       "5. 0.0459\n",
       "6. 0.0482\n",
       "\n",
       "\n"
      ],
      "text/plain": [
       "[1] 0.0130 0.0298 0.0345 0.0400 0.0459 0.0482"
      ]
     },
     "metadata": {},
     "output_type": "display_data"
    }
   ],
   "source": [
    "n = c(10,20,30,50,100,500) # 样本量\n",
    "cv = qnorm(0.975,0,sqrt(6/n))\n",
    "# 对于无限样本量情况，cv = qnorm(0.975,0,sqrt(6*(n-2)/((n+1)*(n+3))))\n",
    "\n",
    "sk = function(x){\n",
    "    xbar = mean(x)\n",
    "    m3 = mean((x-xbar)^3)\n",
    "    m2 = mean((x-xbar)^2)\n",
    "    return(m3/m2^1.5)\n",
    "}\n",
    "\n",
    "p.reject = numeric(length(n))\n",
    "m = 10000\n",
    "for (i in 1:length(n)){\n",
    "    sktests = numeric(m)\n",
    "    for (j in 1:m){\n",
    "        x = rnorm(n[i])\n",
    "        sktests[j] = as.integer(abs(sk(x))>=cv[i])\n",
    "    }\n",
    "    p.reject[i] = mean(sktests) # 拒绝的概率\n",
    "}\n",
    "\n",
    "p.reject\n"
   ]
  },
  {
   "attachments": {},
   "cell_type": "markdown",
   "id": "58573ec2",
   "metadata": {},
   "source": [
    "### 5.检验的功效"
   ]
  },
  {
   "attachments": {},
   "cell_type": "markdown",
   "id": "cacf27ad",
   "metadata": {},
   "source": [
    "$H_{0}:\\mu=500\\,\\,H_{1}:\\mu\\gt 500$"
   ]
  },
  {
   "cell_type": "code",
   "execution_count": 22,
   "id": "5f5af9cf",
   "metadata": {
    "vscode": {
     "languageId": "r"
    }
   },
   "outputs": [
    {
     "data": {
      "image/png": "[encoded data removed]",
      "text/plain": [
       "plot without title"
      ]
     },
     "metadata": {
      "image/png": {
       "height": 420,
       "width": 420
      }
     },
     "output_type": "display_data"
    }
   ],
   "source": [
    "n = 20\n",
    "alpha = 0.05\n",
    "mu0 = 500\n",
    "sigma = 100\n",
    "mu = c(seq(450,650,10)) # 比较三个不同的检验方案\n",
    "M = length(mu)\n",
    "power  = numeric(M)\n",
    "for (i in 1:M){\n",
    "    mu1 = mu[i]\n",
    "    pvalues = replicate(m,expr = {\n",
    "        x = rnorm(n,mean = mu1,sd = sigma)\n",
    "        ttest = t.test(x,alternative = 'greater',mu = mu0) # greater，右边检验，备择假设中u更大\n",
    "        ttest$p.value\n",
    "    })\n",
    "    power[i] = mean(pvalues <= 0.05)\n",
    "}\n",
    "\n",
    "print(power)\n",
    "plot(power)"
   ]
  },
  {
   "cell_type": "code",
   "execution_count": null,
   "id": "d1d00beb",
   "metadata": {
    "vscode": {
     "languageId": "r"
    }
   },
   "outputs": [],
   "source": []
  }
 ],
 "metadata": {
  "kernelspec": {
   "display_name": "R",
   "language": "R",
   "name": "ir"
  },
  "language_info": {
   "codemirror_mode": "r",
   "file_extension": ".r",
   "mimetype": "text/x-r-source",
   "name": "R",
   "pygments_lexer": "r",
   "version": "4.1.3"
  }
 },
 "nbformat": 4,
 "nbformat_minor": 5
}
