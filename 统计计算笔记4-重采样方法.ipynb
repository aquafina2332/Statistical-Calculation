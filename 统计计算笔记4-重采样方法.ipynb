{
 "cells": [
  {
   "attachments": {},
   "cell_type": "markdown",
   "id": "df92a894",
   "metadata": {},
   "source": [
    "# 自助重采样和刀切法"
   ]
  },
  {
   "attachments": {},
   "cell_type": "markdown",
   "id": "1e12e667",
   "metadata": {},
   "source": [
    "## 1.Bootstrap"
   ]
  },
  {
   "cell_type": "code",
   "execution_count": 9,
   "id": "21b111ab",
   "metadata": {
    "vscode": {
     "languageId": "r"
    }
   },
   "outputs": [
    {
     "name": "stdout",
     "output_type": "stream",
     "text": [
      "[1] 0.7763745\n",
      "[1] 0.7827419\n",
      "[1] 0.1240233\n"
     ]
    },
    {
     "data": {
      "image/png": "[encoded data removed]",
      "text/plain": [
       "Plot with title \"Histogram of R\""
      ]
     },
     "metadata": {
      "image/png": {
       "height": 420,
       "width": 420
      }
     },
     "output_type": "display_data"
    }
   ],
   "source": [
    "library(bootstrap)\n",
    "data(law)\n",
    "\n",
    "print(cor(law$LSAT, law$GPA))\n",
    "#设置bootstrap循环\n",
    "B <- 200 #重复抽样的次数\n",
    "n <- nrow(law) #样本大小（15个）\n",
    "R <- numeric(B) #储存每次循环后计算得到的相关系数\n",
    "#对R的标准差进行bootstrap评估（通过计算每次抽样的标准差）\n",
    "for (b in 1:B) {\n",
    "  #randomly select the indices\n",
    "  i <- sample(1:n, size = n, replace = TRUE)\n",
    "  # 从1:n的范围内有放回地抽取n个样本\n",
    "  LSAT <- law$LSAT[i] \n",
    "  GPA <- law$GPA[i]\n",
    "  R[b] <- cor(LSAT, GPA)\n",
    "  }\n",
    "#output\n",
    "print(mean(R)) # 估计值\n",
    "print(se.R <- sd(R))  #多次抽样的标准差即为标准误\n",
    "hist(R, prob = TRUE)"
   ]
  },
  {
   "cell_type": "code",
   "execution_count": 17,
   "id": "51a5bbe2",
   "metadata": {
    "vscode": {
     "languageId": "r"
    }
   },
   "outputs": [
    {
     "data": {
      "text/html": [
       "0.123245073268824"
      ],
      "text/latex": [
       "0.123245073268824"
      ],
      "text/markdown": [
       "0.123245073268824"
      ],
      "text/plain": [
       "[1] 0.1232451"
      ]
     },
     "metadata": {},
     "output_type": "display_data"
    },
    {
     "data": {
      "image/png": "[encoded data removed]",
      "text/plain": [
       "Plot with title \"Histogram of result\""
      ]
     },
     "metadata": {
      "image/png": {
       "height": 420,
       "width": 420
      }
     },
     "output_type": "display_data"
    }
   ],
   "source": [
    "# 使用bootstrap函数 计算se\n",
    "# bootstrap(抽取样本范围,重复次数,进行bootstrap的函数,bootstrap的数据集)\n",
    "n<-15\n",
    "theta<-function(x,law){cor(law[x,1],law[x,2])}\n",
    "result<-bootstrap(1:n,200,theta,law)$thetastar\n",
    "hist(result,prob=T)\n",
    "sd(result)"
   ]
  },
  {
   "cell_type": "code",
   "execution_count": 21,
   "id": "7309b34c",
   "metadata": {
    "vscode": {
     "languageId": "r"
    }
   },
   "outputs": [
    {
     "data": {
      "text/html": [
       "0.0070075605718024"
      ],
      "text/latex": [
       "0.0070075605718024"
      ],
      "text/markdown": [
       "0.0070075605718024"
      ],
      "text/plain": [
       "[1] 0.007007561"
      ]
     },
     "metadata": {},
     "output_type": "display_data"
    }
   ],
   "source": [
    "# 计算偏差：偏差定义为bootstrap结果（多个数值）与原数据统计结果（单个数值）的均值\n",
    "library(bootstrap)\n",
    "data(law)\n",
    "origin<-cor(law$LSAT, law$GPA)\n",
    "n<-15\n",
    "theta<-function(x,law){cor(law[x,1],law[x,2])}\n",
    "result<-bootstrap(1:n,200,theta,law)$thetastar\n",
    "se<-sd(result)\n",
    "bias <- mean(result - origin)\n",
    "bias"
   ]
  },
  {
   "cell_type": "code",
   "execution_count": 24,
   "id": "f3a6261e",
   "metadata": {
    "vscode": {
     "languageId": "r"
    }
   },
   "outputs": [
    {
     "name": "stdout",
     "output_type": "stream",
     "text": [
      "\n",
      "ORDINARY NONPARAMETRIC BOOTSTRAP\n",
      "\n",
      "\n",
      "Call:\n",
      "boot(data = dat, statistic = theta.boot, R = 2000)\n",
      "\n",
      "\n",
      "Bootstrap Statistics :\n",
      "     original      bias    std. error\n",
      "t1* 0.7763745 -0.01048444   0.1341324\n",
      "BOOTSTRAP CONFIDENCE INTERVAL CALCULATIONS\n",
      "Based on 2000 bootstrap replicates\n",
      "\n",
      "CALL : \n",
      "boot.ci(boot.out = boot.obj, type = c(\"basic\", \"norm\", \"perc\"))\n",
      "\n",
      "Intervals : \n",
      "Level      Normal              Basic              Percentile     \n",
      "95%   ( 0.5240,  1.0498 )   ( 0.5918,  1.1088 )   ( 0.4440,  0.9610 )  \n",
      "Calculations and Intervals on Original Scale\n"
     ]
    }
   ],
   "source": [
    "# 计算置信区间\n",
    "library(boot)\n",
    "data(law)\n",
    "theta.boot<-function(dat,ind){\n",
    "  cor(dat[ind,1],dat[ind,2])}\n",
    "dat<-cbind(law$LSAT,law$GPA)\n",
    "boot.obj <- boot(dat, statistic = theta.boot, R = 2000) # R为重复次数\n",
    "print(boot.obj)\n",
    "print(boot.ci(boot.obj,type = c(\"basic\", \"norm\", \"perc\")))\n"
   ]
  },
  {
   "cell_type": "code",
   "execution_count": 28,
   "id": "12de5d89",
   "metadata": {
    "vscode": {
     "languageId": "r"
    }
   },
   "outputs": [
    {
     "name": "stdout",
     "output_type": "stream",
     "text": [
      "[1] -1.9346969 -0.3463416\n",
      "    97.5%      2.5% \n",
      "0.5918988 1.1087998 \n",
      "     2.5%     97.5% \n",
      "0.4439806 0.9609511 \n"
     ]
    }
   ],
   "source": [
    "# 根据定义\n",
    "alpha = c(0.025,0.975)\n",
    "# normal\n",
    "print(boot.obj$t0+qnorm(alpha*sd(boot.obj$t)))\n",
    "# basic\n",
    "print(2*boot.obj$t0-quantile(boot.obj$t,rev(alpha),type = 1))\n",
    "# percentile\n",
    "print(quantile(boot.obj$t,alpha,type = 6))"
   ]
  },
  {
   "attachments": {},
   "cell_type": "markdown",
   "id": "e918455c",
   "metadata": {},
   "source": [
    "这里用了三种方法计算置信区间：basic、正态和百分数。样本相关系数分布接近正态，则正态置信区间接近百分数区间。此外还有“Better Bootstrap Confivendence Interval” 更好的bootstrap置信区间，称为BCa区间，使用偏差和偏度对百分数置信区间进行矫正。设置type=\"bca\"即可。\n"
   ]
  },
  {
   "cell_type": "code",
   "execution_count": 30,
   "id": "b1a467bb",
   "metadata": {
    "vscode": {
     "languageId": "r"
    }
   },
   "outputs": [
    {
     "name": "stdout",
     "output_type": "stream",
     "text": [
      "      2.5%      97.5% \n",
      "-0.2605155  0.4490272 \n"
     ]
    }
   ],
   "source": [
    "# bootstrap t置信区间\n",
    "boot.t.ci = function(x,B = 500,R = 100,level = .95,statistic){\n",
    "    # B是外层重抽样次数，R是内层重抽样次数\n",
    "    x = as.matrix(x)\n",
    "    n = nrow(x)\n",
    "    stat = numeric(B)\n",
    "    se = numeric(B)\n",
    "    boot.se = function(x,R,f){\n",
    "        # 内层对每个bootstrap样本估计se\n",
    "        x = as.matrix(x)\n",
    "        m = nrow(x)\n",
    "        th = replicate(R,expr = {\n",
    "            i = sample(1:m,size = m,replace = TRUE)\n",
    "            f(x[i,])\n",
    "        })\n",
    "        return(sd(th))\n",
    "    }\n",
    "    for (b in 1:B){\n",
    "        j = sample(1:n,size = n,replace = TRUE)\n",
    "        y = x[j,]\n",
    "        stat[b] = statistic(y)\n",
    "        se[b] = boot.se(y,R = R,f = statistic)\n",
    "    }\n",
    "    stat0 = statistic(x)\n",
    "    t.stats = (stat - stat0)/se # t统计量的计算\n",
    "    se0 = sd(stat) # bootstrap重复下的标准差的计算\n",
    "    alpha = 1-level\n",
    "    Qt = quantile(t.stats,c(alpha/2,1-alpha/2),type = 1)\n",
    "    names(Qt) = rev(names(Qt))\n",
    "    CI = rev(stat0-Qt*se0)\n",
    "}\n",
    "\n",
    "dat = cbind(patch$y,patch$z)\n",
    "stat = function(dat){\n",
    "    mean(dat[,1]/mean(dat[,2]))\n",
    "}\n",
    "ci = boot.t.ci(dat,statistic = stat,B = 2000,R = 200)\n",
    "print(ci)"
   ]
  },
  {
   "attachments": {},
   "cell_type": "markdown",
   "id": "9fe87570",
   "metadata": {},
   "source": [
    "## 2.Jackknife"
   ]
  },
  {
   "attachments": {},
   "cell_type": "markdown",
   "id": "f86edc03",
   "metadata": {},
   "source": [
    "jacknife就是每次都抽取n-1个样本，也就是每次只剔除一个原样本。\n",
    "\n",
    "当统计量不太平滑的时候，Jacknife有很大误差。比如说对中位数进行统计，其变化很大。在进行Jacknife之后最好再跑一次bootstrap，看看是否相差很大。\n",
    "或者，In this case, when the statistic is not smooth,the delete-d jackknife (leave d observations out on each replicate) can be applied."
   ]
  },
  {
   "cell_type": "code",
   "execution_count": 13,
   "id": "bf1bd254",
   "metadata": {
    "vscode": {
     "languageId": "r"
    }
   },
   "outputs": [
    {
     "name": "stdout",
     "output_type": "stream",
     "text": [
      "[1] 0.7763745\n",
      "[1] 0.7759121\n"
     ]
    }
   ],
   "source": [
    "library(bootstrap)\n",
    "data(law)\n",
    "n <- nrow(law)\n",
    "LSAT <- law$LSAT\n",
    "GPA <- law$GPA\n",
    "theta.hat <- cor(LSAT,GPA)\n",
    "print (theta.hat)\n",
    "theta.jack <- numeric(n)\n",
    "for (i in 1:n)\n",
    "  theta.jack[i] <-cor(LSAT[-i],GPA[-i])\n",
    "print(mean(theta.jack))\n",
    "bias <- (n-1) * (mean(theta.jack) - theta.hat) # 偏差\n",
    "se <- sqrt((n-1) * mean((theta.jack - mean(theta.jack))^2))# 标准误"
   ]
  },
  {
   "attachments": {},
   "cell_type": "markdown",
   "id": "90a8fb2a",
   "metadata": {},
   "source": [
    "## 3.jackknife-after-bootstrap"
   ]
  },
  {
   "cell_type": "markdown",
   "id": "e737f699",
   "metadata": {},
   "source": [
    "针对每次bootstrap形成的数列向量计算jackknife的标准差，这样可以看出bootstrap若干次取样之间的差异。"
   ]
  },
  {
   "cell_type": "code",
   "execution_count": 16,
   "id": "9ab557e4",
   "metadata": {
    "vscode": {
     "languageId": "r"
    }
   },
   "outputs": [
    {
     "name": "stdout",
     "output_type": "stream",
     "text": [
      "[1] 0.1311105\n",
      "[1] 0.07894544\n"
     ]
    }
   ],
   "source": [
    "#jackknife-after-bootstrap \n",
    "# initialize\n",
    "data(law)\n",
    "n <- nrow(law)\n",
    "LSAT <- law$LSAT\n",
    "GPA <- law$GPA\n",
    "B <- 2000\n",
    "theta.b <- numeric(B)\n",
    "# set up storage for the sampled indices \n",
    "indices <- matrix(0, nrow = B, ncol = n)\n",
    "# jackknife-after-bootstrap step 1: run the bootstrap \n",
    "for (b in 1:B) {\n",
    "  i <- sample(1:n, size = n, replace = TRUE) \n",
    "  LSAT <- law$LSAT[i]\n",
    "  GPA <- law$GPA[i]\n",
    "  theta.b[b] <- cor(LSAT,GPA)\n",
    "  #save the indices for the jackknife \n",
    "  indices[b, ] <- i\n",
    "}\n",
    "#jackknife-after-bootstrap to est. se(se) \n",
    "se.jack <- numeric(n)\n",
    "for (i in 1:n) {\n",
    "  #in i-th replicate omit all samples with x[I] \n",
    "  keep <- (1:B)[apply(indices, MARGIN = 1,FUN = function(k) {!any(k == i)})] \n",
    "  ## 根据jackknife的特性，对bootstrap抽样矩阵indices进行8次取样，每次去除存在k=I的向量。\n",
    "  ## 也就是说第一次取样不能包含1，第二次不能包含2，把这些行都去掉再计算。\n",
    "  se.jack[i] <- sd(theta.b[keep])\n",
    "}\n",
    "print(sd(theta.b))\n",
    "print(sqrt((n-1) * mean((se.jack - mean(se.jack))^2)))\n",
    "# 算出来分别为0.1344824和0.08545141。后者较小，表面bootstrap取样之间的variance较小。"
   ]
  },
  {
   "cell_type": "code",
   "execution_count": null,
   "id": "52a17791",
   "metadata": {
    "vscode": {
     "languageId": "r"
    }
   },
   "outputs": [],
   "source": [
    "n = nrow(df) # df的行数\n",
    "theta = function(x,df){cor(df$height[x],df$weight[x])}\n",
    "theta.boot = bootstrap(1:n,N,theta,df)$thetastar\n",
    "print(mean(theta.boot)) # bootstrap相关系数估计值\n",
    "# 下面计算偏差：定义为bootstrap结果（多个数值）与原数据统计结果（单个数值）的均值\n",
    "origin = cor(df$height, df$weight)\n",
    "bias_bs = mean(theta.boot - origin)\n",
    "print(bias_bs) # bootstrap偏差\n",
    "sd_bs = sd(theta.boot)\n",
    "print(sd_bs) # bootstrap标准差"
   ]
  },
  {
   "cell_type": "code",
   "execution_count": null,
   "id": "338ad732",
   "metadata": {
    "vscode": {
     "languageId": "r"
    }
   },
   "outputs": [],
   "source": [
    "theta.boot = numeric(N) # 初始化 \n",
    "for (b in 1:N) {\n",
    "    i = sample(1:n, size = n, replace = TRUE) # 可放回抽样\n",
    "    theta.boot[b] = cor(data$height[i] ,data$weight[i])\n",
    "}\n",
    "print(mean(theta.boot)) # bootstrap相关系数估计值\n",
    "# 下面计算偏差：定义为bootstrap结果（多个数值）与原数据统计结果（单个数值）的均值\n",
    "origin = cor(df$height, df$weight)\n",
    "bias_bs = mean(theta.boot - origin)\n",
    "print(bias_bs) # bootstrap偏差\n",
    "sd_bs = sd(theta.boot)\n",
    "print(sd_bs) # bootstrap标准差\n",
    "rnorm()"
   ]
  }
 ],
 "metadata": {
  "kernelspec": {
   "display_name": "R",
   "language": "R",
   "name": "ir"
  },
  "language_info": {
   "codemirror_mode": "r",
   "file_extension": ".r",
   "mimetype": "text/x-r-source",
   "name": "R",
   "pygments_lexer": "r",
   "version": "4.1.3"
  }
 },
 "nbformat": 4,
 "nbformat_minor": 5
}
